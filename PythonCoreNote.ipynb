{
 "cells": [
  {
   "metadata": {},
   "cell_type": "markdown",
   "source": "# **Chapter1**",
   "id": "3e370737520a5e35"
  },
  {
   "metadata": {},
   "cell_type": "markdown",
   "source": "",
   "id": "6d9063b21ee343c9"
  },
  {
   "metadata": {
    "ExecuteTime": {
     "end_time": "2025-05-21T15:03:05.642406Z",
     "start_time": "2025-05-21T15:03:05.640449Z"
    }
   },
   "cell_type": "code",
   "source": "",
   "id": "d85ab70eb19fd4d",
   "outputs": [],
   "execution_count": null
  }
 ],
 "metadata": {
  "kernelspec": {
   "display_name": "Python 3",
   "language": "python",
   "name": "python3"
  },
  "language_info": {
   "codemirror_mode": {
    "name": "ipython",
    "version": 2
   },
   "file_extension": ".py",
   "mimetype": "text/x-python",
   "name": "python",
   "nbconvert_exporter": "python",
   "pygments_lexer": "ipython2",
   "version": "2.7.6"
  }
 },
 "nbformat": 4,
 "nbformat_minor": 5
}
